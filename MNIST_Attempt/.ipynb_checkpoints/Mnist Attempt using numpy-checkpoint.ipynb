{
 "cells": [
  {
   "cell_type": "code",
   "execution_count": 3,
   "metadata": {
    "collapsed": false,
    "deletable": true,
    "editable": true
   },
   "outputs": [],
   "source": [
    "import numpy as np\n",
    "import os\n",
    "import struct\n",
    "import sys\n",
    "import image_utils as iu\n",
    "\n",
    "training_image_file= \"train-images.idx3-ubyte\"\n",
    "training_label_file = \"train-labels.idx1-ubyte\"\n",
    "test_image_file = \"t10k-images.idx3-ubyte\"\n",
    "test_label_file = \"t10k-labels.idx1-ubyte\"\n",
    "\n",
    "image_data_folder = \"data\""
   ]
  },
  {
   "cell_type": "code",
   "execution_count": 4,
   "metadata": {
    "collapsed": true,
    "deletable": true,
    "editable": true
   },
   "outputs": [],
   "source": [
    "def one_hot_encode(np_1d_arr):\n",
    "    return np.eye(np.max(np_1d_arr) + 1)[np_1d_arr.flatten()]"
   ]
  },
  {
   "cell_type": "code",
   "execution_count": 5,
   "metadata": {
    "collapsed": false,
    "deletable": true,
    "editable": true
   },
   "outputs": [
    {
     "name": "stdout",
     "output_type": "stream",
     "text": [
      "Total images in file: 60000\n",
      "Total labels in file: 60000\n"
     ]
    }
   ],
   "source": [
    "# Load the training images and labels:\n",
    "training_data = iu.load_image_file(training_image_file)\n",
    "training_labels = iu.load_labels_file(training_label_file)"
   ]
  },
  {
   "cell_type": "code",
   "execution_count": 6,
   "metadata": {
    "collapsed": false,
    "deletable": true,
    "editable": true
   },
   "outputs": [
    {
     "name": "stdout",
     "output_type": "stream",
     "text": [
      "Total images in file: 10000\n",
      "Total labels in file: 10000\n"
     ]
    }
   ],
   "source": [
    "# Load the test images and labels:\n",
    "test_data = iu.load_image_file(test_image_file)\n",
    "test_labels = iu.load_labels_file(test_label_file)"
   ]
  },
  {
   "cell_type": "code",
   "execution_count": 7,
   "metadata": {
    "collapsed": false,
    "deletable": true,
    "editable": true
   },
   "outputs": [
    {
     "name": "stdout",
     "output_type": "stream",
     "text": [
      "test_labels shape: (10000, 10)\n",
      "training_labels shape: (60000, 10)\n"
     ]
    }
   ],
   "source": [
    "# Create a one-hot-encoding from the labels:\n",
    "test_labels = one_hot_encode(test_labels)\n",
    "training_labels = one_hot_encode(training_labels)\n",
    "\n",
    "print(\"test_labels shape: {}\".format(test_labels.shape))\n",
    "print(\"training_labels shape: {}\".format(training_labels.shape))"
   ]
  },
  {
   "cell_type": "code",
   "execution_count": 100,
   "metadata": {
    "collapsed": false,
    "deletable": true,
    "editable": true
   },
   "outputs": [],
   "source": [
    "# normalise the training and test img_data to be in the range [-1, 1]\n",
    "training_data_norm = (training_data - 128)/128\n",
    "test_data_norm = (test_data - 128)/128"
   ]
  },
  {
   "cell_type": "code",
   "execution_count": 123,
   "metadata": {
    "collapsed": true,
    "deletable": true,
    "editable": true
   },
   "outputs": [],
   "source": [
    "# Set neural nets hyperparameters:\n",
    "learning_rate = 0.005\n",
    "iterations = 5\n",
    "\n",
    "input_layer_size = 28*28 # Number of pixels per image\n",
    "hidden_layer_size = 64\n",
    "output_layer_size  = 10\n",
    "\n"
   ]
  },
  {
   "cell_type": "code",
   "execution_count": 124,
   "metadata": {
    "collapsed": false
   },
   "outputs": [
    {
     "name": "stdout",
     "output_type": "stream",
     "text": [
      "(784, 64)\n",
      "(64, 10)\n"
     ]
    }
   ],
   "source": [
    "print(weights_0_1.shape)\n",
    "print(weights_1_2.shape)\n",
    "# layer_test = training_data[0: 1]\n",
    "# layer_1 = layer_test.dot(weights_0_1)          # (1 x 64)\n",
    "# layer_2 = softmax(layer_1.dot(weights_1_2))\n",
    "# prob_to_class(layer_2)"
   ]
  },
  {
   "cell_type": "code",
   "execution_count": 125,
   "metadata": {
    "collapsed": true,
    "deletable": true,
    "editable": true
   },
   "outputs": [],
   "source": [
    "# Define the activation functions and their derivatives:\n",
    "def relu(x):\n",
    "    return (x >= 0) * x\n",
    "\n",
    "def relu_deriv(x):\n",
    "    return x >= 0\n",
    "\n",
    "def softmax(np_arr):\n",
    "    return np.exp(np_arr) / np.sum(np.exp(np_arr))\n",
    "\n",
    "def prob_to_class(np_arr):\n",
    "    return (np_arr == np.max(np_arr))*1"
   ]
  },
  {
   "cell_type": "code",
   "execution_count": 128,
   "metadata": {
    "collapsed": false,
    "deletable": true,
    "editable": true
   },
   "outputs": [
    {
     "name": "stdout",
     "output_type": "stream",
     "text": [
      "Error: 0.34789932575576965, Training Accuracy: 0.83885, Test Accuracy: 0.8482\n",
      "Error: 0.30025935363558387, Training Accuracy: 0.86805, Test Accuracy: 0.8649\n",
      "Error: 0.2936307011457737, Training Accuracy: 0.8724166666666666, Test Accuracy: 0.8612\n",
      "Error: 0.29355294351526967, Training Accuracy: 0.8713, Test Accuracy: 0.8518\n",
      "Error: 0.3067986295573586, Training Accuracy: 0.8625666666666667, Test Accuracy: 0.8404\n"
     ]
    }
   ],
   "source": [
    "weights_0_1 = 0.2 * np.random.random((input_layer_size, hidden_layer_size)) - 0.1  # (784 x 64)\n",
    "weights_1_2 = 0.2 * np.random.random((hidden_layer_size, output_layer_size)) - 0.1 # (64 x 10)\n",
    "\n",
    "for iter in range(iterations):\n",
    "    iter_error = 0\n",
    "    test_error = 0\n",
    "    correct_cnt = 0\n",
    "    correct_test_cnt = 0\n",
    "    for img_index in range(len(training_data_norm)):\n",
    "        \n",
    "        label = training_labels[img_index: img_index + 1] # (1 x 10)\n",
    "        layer_0 = training_data_norm[img_index: img_index + 1] # (1 x 784)\n",
    "        layer_1 = relu(layer_0.dot(weights_0_1))          # (1 x 64)\n",
    "        layer_2 = layer_1.dot(weights_1_2)                # (1 x 10)\n",
    "         \n",
    "        iter_error += np.sum((layer_2 - label)**2)\n",
    "        correct_cnt += np.argmax(layer_2) == np.argmax(label)\n",
    "        \n",
    "        delta_2 = (layer_2 - label)                     # (1 x 10)\n",
    "        delta_1 = delta_2.dot(weights_1_2.T)*relu_deriv(layer_1) # (1 x 64)\n",
    "\n",
    "        weights_1_2 -= learning_rate * layer_1.T.dot(delta_2)\n",
    "        weights_0_1 -= learning_rate * layer_0.T.dot(delta_1)\n",
    "\n",
    "        \n",
    "#         if img_index % 6000 == 0:\n",
    "#             print(\"delta_2: {}\".format(delta_2))\n",
    "#             print(\"delta_1: {}\".format(delta_1))\n",
    "    if iter % 1 == 0:    \n",
    "        # estimate the test accuracy:\n",
    "        for j in range(len(test_data_norm)):\n",
    "        \n",
    "            test_label = test_labels[j: j + 1] # (1 x 10)\n",
    "            layer_0_test = test_data_norm[j: j + 1] # (1 x 784)\n",
    "            layer_1_test = relu(layer_0_test.dot(weights_0_1))          # (1 x 64)\n",
    "            layer_2_test = layer_1_test.dot(weights_1_2)                # (1 x 10)\n",
    "         \n",
    "            test_error += np.sum((layer_2_test - test_label)**2)\n",
    "            correct_test_cnt += np.argmax(layer_2_test) == np.argmax(test_label)\n",
    "        \n",
    "        print(\"Error: {}, Training Accuracy: {}, Test Accuracy: {}\"\n",
    "              .format(iter_error/len(training_data_norm), correct_cnt/len(training_data_norm), correct_test_cnt/len(test_data_norm)))"
   ]
  },
  {
   "cell_type": "code",
   "execution_count": 34,
   "metadata": {
    "collapsed": false
   },
   "outputs": [
    {
     "data": {
      "text/plain": [
       "(1, 784)"
      ]
     },
     "execution_count": 34,
     "metadata": {},
     "output_type": "execute_result"
    }
   ],
   "source": [
    "training_data[0: 1].shape"
   ]
  },
  {
   "cell_type": "code",
   "execution_count": 12,
   "metadata": {
    "collapsed": true
   },
   "outputs": [],
   "source": [
    "test2 = softmax(test)\n"
   ]
  },
  {
   "cell_type": "code",
   "execution_count": 102,
   "metadata": {
    "collapsed": false
   },
   "outputs": [
    {
     "data": {
      "text/plain": [
       "60000"
      ]
     },
     "execution_count": 102,
     "metadata": {},
     "output_type": "execute_result"
    }
   ],
   "source": [
    "len(training_data_norm)"
   ]
  },
  {
   "cell_type": "code",
   "execution_count": 22,
   "metadata": {
    "collapsed": false
   },
   "outputs": [],
   "source": [
    "test2 = \n"
   ]
  },
  {
   "cell_type": "code",
   "execution_count": 23,
   "metadata": {
    "collapsed": false
   },
   "outputs": [
    {
     "data": {
      "text/plain": [
       "array([0, 0, 0, 1])"
      ]
     },
     "execution_count": 23,
     "metadata": {},
     "output_type": "execute_result"
    }
   ],
   "source": [
    "test2"
   ]
  },
  {
   "cell_type": "code",
   "execution_count": 19,
   "metadata": {
    "collapsed": false
   },
   "outputs": [
    {
     "data": {
      "text/plain": [
       "1"
      ]
     },
     "execution_count": 19,
     "metadata": {},
     "output_type": "execute_result"
    }
   ],
   "source": [
    "True*1"
   ]
  },
  {
   "cell_type": "code",
   "execution_count": 87,
   "metadata": {
    "collapsed": false
   },
   "outputs": [
    {
     "data": {
      "text/plain": [
       "3"
      ]
     },
     "execution_count": 87,
     "metadata": {},
     "output_type": "execute_result"
    }
   ],
   "source": [
    "np.argmax(test2)"
   ]
  },
  {
   "cell_type": "code",
   "execution_count": 41,
   "metadata": {
    "collapsed": false
   },
   "outputs": [],
   "source": [
    "def relu(x):\n",
    "    return (x > 0) * x"
   ]
  },
  {
   "cell_type": "code",
   "execution_count": 42,
   "metadata": {
    "collapsed": false
   },
   "outputs": [
    {
     "data": {
      "text/plain": [
       "array([0, 0, 0, 1])"
      ]
     },
     "execution_count": 42,
     "metadata": {},
     "output_type": "execute_result"
    }
   ],
   "source": [
    "test3"
   ]
  },
  {
   "cell_type": "code",
   "execution_count": 43,
   "metadata": {
    "collapsed": false
   },
   "outputs": [
    {
     "data": {
      "text/plain": [
       "array([-0. ,  1. ,  1.6])"
      ]
     },
     "execution_count": 43,
     "metadata": {},
     "output_type": "execute_result"
    }
   ],
   "source": [
    "relu(np.array([-.3,1,2.-.4]))"
   ]
  },
  {
   "cell_type": "code",
   "execution_count": 45,
   "metadata": {
    "collapsed": false
   },
   "outputs": [
    {
     "data": {
      "text/plain": [
       "array([0, 1, 2, 0])"
      ]
     },
     "execution_count": 45,
     "metadata": {},
     "output_type": "execute_result"
    }
   ],
   "source": [
    "tt = np.array([-3, 1, 2, -44])\n",
    "relu(tt)"
   ]
  },
  {
   "cell_type": "code",
   "execution_count": 98,
   "metadata": {
    "collapsed": false
   },
   "outputs": [
    {
     "data": {
      "text/plain": [
       "0"
      ]
     },
     "execution_count": 98,
     "metadata": {},
     "output_type": "execute_result"
    }
   ],
   "source": [
    "np.min(training_data)"
   ]
  },
  {
   "cell_type": "code",
   "execution_count": 99,
   "metadata": {
    "collapsed": false
   },
   "outputs": [
    {
     "data": {
      "text/plain": [
       "0.9921875"
      ]
     },
     "execution_count": 99,
     "metadata": {},
     "output_type": "execute_result"
    }
   ],
   "source": [
    "np.max((training_data-128)/128)"
   ]
  },
  {
   "cell_type": "code",
   "execution_count": null,
   "metadata": {
    "collapsed": true
   },
   "outputs": [],
   "source": []
  }
 ],
 "metadata": {
  "kernelspec": {
   "display_name": "Python 3",
   "language": "python",
   "name": "python3"
  },
  "language_info": {
   "codemirror_mode": {
    "name": "ipython",
    "version": 3
   },
   "file_extension": ".py",
   "mimetype": "text/x-python",
   "name": "python",
   "nbconvert_exporter": "python",
   "pygments_lexer": "ipython3",
   "version": "3.6.0"
  }
 },
 "nbformat": 4,
 "nbformat_minor": 2
}
