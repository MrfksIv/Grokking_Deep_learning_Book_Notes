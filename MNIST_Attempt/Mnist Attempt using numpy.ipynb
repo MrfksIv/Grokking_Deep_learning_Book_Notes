{
 "cells": [
  {
   "cell_type": "code",
   "execution_count": 2,
   "metadata": {
    "collapsed": true
   },
   "outputs": [],
   "source": [
    "import numpy as np\n",
    "import os\n",
    "import struct\n",
    "import sys\n",
    "import image_utils as iu\n",
    "\n",
    "training_image_file= \"train-images.idx3-ubyte\"\n",
    "training_label_file = \"train-labels.idx1-ubyte\"\n",
    "test_image_file = \"t10k-images.idx3-ubyte\"\n",
    "test_label_file = \"t10k-labels.idx1-ubyte\"\n",
    "\n",
    "image_data_folder = \"data\""
   ]
  },
  {
   "cell_type": "code",
   "execution_count": null,
   "metadata": {
    "collapsed": true
   },
   "outputs": [],
   "source": [
    "def one_hot_encode(np_1d_arr):\n",
    "    return np.eye(np.max(np_1d_arr) + 1)[np_1d_arr.flatten()]"
   ]
  },
  {
   "cell_type": "code",
   "execution_count": 3,
   "metadata": {
    "collapsed": false
   },
   "outputs": [
    {
     "name": "stdout",
     "output_type": "stream",
     "text": [
      "Total images in file: 60000\n",
      "Total labels in file: 60000\n"
     ]
    }
   ],
   "source": [
    "# Load the training images and labels:\n",
    "training_data = iu.load_image_file(training_image_file)\n",
    "training_labels = iu.load_labels_file(training_label_file)"
   ]
  },
  {
   "cell_type": "code",
   "execution_count": 4,
   "metadata": {
    "collapsed": false
   },
   "outputs": [
    {
     "name": "stdout",
     "output_type": "stream",
     "text": [
      "Total images in file: 10000\n",
      "Total labels in file: 10000\n"
     ]
    }
   ],
   "source": [
    "# Load the test images and labels:\n",
    "test_data = iu.load_image_file(test_image_file)\n",
    "test_labels = iu.load_labels_file(test_label_file)"
   ]
  },
  {
   "cell_type": "code",
   "execution_count": 40,
   "metadata": {
    "collapsed": false
   },
   "outputs": [
    {
     "name": "stdout",
     "output_type": "stream",
     "text": [
      "test_labels shape: (10000, 10)\n",
      "training_labels shape: (60000, 10)\n"
     ]
    }
   ],
   "source": [
    "# Create a one-hot-encoding from the labels:\n",
    "test_labels = one_hot_encode(test_labels)\n",
    "training_labels = one_hot_encode(training_labels)\n",
    "\n",
    "print(\"test_labels shape: {}\".format(test_labels.shape))\n",
    "print(\"training_labels shape: {}\".format(training_labels.shape))"
   ]
  },
  {
   "cell_type": "code",
   "execution_count": 41,
   "metadata": {
    "collapsed": false
   },
   "outputs": [
    {
     "data": {
      "text/plain": [
       "(60000, 784)"
      ]
     },
     "execution_count": 41,
     "metadata": {},
     "output_type": "execute_result"
    }
   ],
   "source": [
    "training_data.shape"
   ]
  },
  {
   "cell_type": "code",
   "execution_count": 42,
   "metadata": {
    "collapsed": true
   },
   "outputs": [],
   "source": [
    "# Set neural nets hyperparameters:\n",
    "learning_rate = 0.005\n",
    "iterations = 10\n",
    "\n",
    "input_layer_size = 28*28 # Number of pixels per image\n",
    "hidden_layer_size = 64\n",
    "output_layer_size  = 10\n",
    "\n",
    "\n",
    "weights_0_1 = 0.2 * np.random.random((input_layer_size, hidden_layer_size)) - 0.1\n",
    "weights_1_2 = 0.2 * np.random.random((hidden_layer_size, output_layer_size)) - 0.1"
   ]
  },
  {
   "cell_type": "code",
   "execution_count": null,
   "metadata": {
    "collapsed": true
   },
   "outputs": [],
   "source": [
    "# Define the activation functions and their derivatives:\n",
    "def relu(x):\n",
    "    return (x > 0) * x\n",
    "\n",
    "def relu_deriv(x):\n",
    "    return x >= 0"
   ]
  },
  {
   "cell_type": "code",
   "execution_count": null,
   "metadata": {
    "collapsed": true
   },
   "outputs": [],
   "source": [
    "for iter in range(iterations):\n",
    "    for img_index in range(training_data.shape[0]):\n",
    "        \n",
    "        label = training_labels[img_index: img_index + 1]\n",
    "        layer_0 = training_data[img_index: img_index + 1]\n",
    "        layer_1 = relu(layer0.dot(weights_0_1))\n",
    "        layer_2 "
   ]
  }
 ],
 "metadata": {
  "kernelspec": {
   "display_name": "Python 3",
   "language": "python",
   "name": "python3"
  },
  "language_info": {
   "codemirror_mode": {
    "name": "ipython",
    "version": 3
   },
   "file_extension": ".py",
   "mimetype": "text/x-python",
   "name": "python",
   "nbconvert_exporter": "python",
   "pygments_lexer": "ipython3",
   "version": "3.6.0"
  }
 },
 "nbformat": 4,
 "nbformat_minor": 2
}
